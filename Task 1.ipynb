{
 "cells": [
  {
   "cell_type": "markdown",
   "id": "b47ca8c0",
   "metadata": {},
   "source": [
    "# TASK 1"
   ]
  },
  {
   "cell_type": "markdown",
   "id": "801fe145",
   "metadata": {},
   "source": [
    "### (i) Searching an element in an array.\n",
    "### (ii) Finding largest number in an array.\n",
    "### (iii) Finding smallest number in an array.\n",
    "### (iv) Reversing an array.\n",
    "### (v) Rotating an array by kth position."
   ]
  },
  {
   "cell_type": "markdown",
   "id": "866700e6",
   "metadata": {},
   "source": [
    "  "
   ]
  },
  {
   "cell_type": "markdown",
   "id": "f9cef851",
   "metadata": {},
   "source": [
    "### Solution:"
   ]
  },
  {
   "cell_type": "code",
   "execution_count": 1,
   "id": "d6128f90",
   "metadata": {},
   "outputs": [],
   "source": [
    "import numpy as np"
   ]
  },
  {
   "cell_type": "code",
   "execution_count": 2,
   "id": "62943aa7",
   "metadata": {},
   "outputs": [],
   "source": [
    "# (i)searching an element\n",
    "def search(arr,n,s):\n",
    "    for i in range(n):\n",
    "        if(arr[i]==s):\n",
    "            return i\n",
    "    return -1"
   ]
  },
  {
   "cell_type": "code",
   "execution_count": 3,
   "id": "fdcbd6c3",
   "metadata": {},
   "outputs": [],
   "source": [
    "# (ii)finding largest number in an array\n",
    "def largest(arr,n):\n",
    "    max=arr[0]\n",
    "    for i in arr:\n",
    "        if i>max:\n",
    "            max=i\n",
    "    return max"
   ]
  },
  {
   "cell_type": "code",
   "execution_count": 4,
   "id": "6486acf0",
   "metadata": {},
   "outputs": [],
   "source": [
    "# (iii)finding smallest number in an array\n",
    "def smallest(arr,n):\n",
    "    min=arr[0]\n",
    "    for i in arr:\n",
    "        if i<min:\n",
    "            min=i\n",
    "    return min"
   ]
  },
  {
   "cell_type": "code",
   "execution_count": 5,
   "id": "5b409b45",
   "metadata": {},
   "outputs": [],
   "source": [
    "# (iv)reversing an array\n",
    "def reverse(arr,n):\n",
    "    return arr[::-1]"
   ]
  },
  {
   "cell_type": "code",
   "execution_count": 6,
   "id": "cec96226",
   "metadata": {},
   "outputs": [],
   "source": [
    "# (v)rotating an array by kth position\n",
    "def rotate(arr,n,k):\n",
    "    k=k%n\n",
    "    for i in range(k):\n",
    "        t=arr[n-1]\n",
    "        for j in range(n-1,0,-1):\n",
    "            arr[j]=arr[j-1]\n",
    "        arr[0]=t\n",
    "    return arr"
   ]
  },
  {
   "cell_type": "code",
   "execution_count": 7,
   "id": "5995c049",
   "metadata": {},
   "outputs": [
    {
     "name": "stdout",
     "output_type": "stream",
     "text": [
      "Enter the size of tha array - 4\n",
      "Input 4 array elements:\n",
      "2\n",
      "1\n",
      "3\n",
      "4\n"
     ]
    }
   ],
   "source": [
    "#initialize and input an array\n",
    "A=np.array([],dtype='i')\n",
    "n=int(input('Enter the size of tha array - '))\n",
    "print('Input '+str(n)+' array elements:')\n",
    "for i in range(n):\n",
    "    A=np.append(A,int(input()))"
   ]
  },
  {
   "cell_type": "code",
   "execution_count": 8,
   "id": "1e8a24a7",
   "metadata": {},
   "outputs": [
    {
     "name": "stdout",
     "output_type": "stream",
     "text": [
      "1.Search number\n",
      "2.Find largest number\n",
      "3.Find smallest number\n",
      "4.Reverse the array\n",
      "5.Rotate by k\n",
      "Input your choice- 3\n"
     ]
    }
   ],
   "source": [
    "#Printing the operation menu\n",
    "\n",
    "#print('1.Search number\\n2.Find largest number\\n3.Find smallest number\\n4.Reverse the array\\n5.Rotate by k')\n",
    "\n",
    "print('1.Search number')\n",
    "print('2.Find largest number')\n",
    "print('3.Find smallest number')\n",
    "print('4.Reverse the array')\n",
    "print('5.Rotate by k')\n",
    "ch=int(input('Input your choice- '))"
   ]
  },
  {
   "cell_type": "code",
   "execution_count": 9,
   "id": "2ff4466c",
   "metadata": {},
   "outputs": [
    {
     "name": "stdout",
     "output_type": "stream",
     "text": [
      "Smallest number is:  1\n"
     ]
    }
   ],
   "source": [
    "#calling the functions one by one after asking the required parameters.\n",
    "\n",
    "if ch==1:\n",
    "    s=int(input('Input a number to search'))\n",
    "    x=search(A,n,s)\n",
    "    if x!=-1:\n",
    "        print('Found at '+str(x+1))\n",
    "    else:\n",
    "        print('Not found')\n",
    "\n",
    "elif ch==2:\n",
    "    x=largest(A,n)\n",
    "    print('Largest number is: '+str(x))\n",
    "    \n",
    "elif ch==3:\n",
    "    x=smallest(A,n)\n",
    "    print('Smallest number is: ',x)\n",
    "    \n",
    "elif ch==4:\n",
    "    x=reverse(A,n)\n",
    "    print('Reversed array: ')\n",
    "    print(x)\n",
    "    \n",
    "elif ch==5:\n",
    "    k=int(input('Input the number of rotations: '))\n",
    "    x=rotate(A,n,k)\n",
    "    print('Rotated array: ')\n",
    "    print(x)    \n",
    "    \n",
    "else:\n",
    "    print('Invalid choice.')"
   ]
  }
 ],
 "metadata": {
  "kernelspec": {
   "display_name": "Python 3 (ipykernel)",
   "language": "python",
   "name": "python3"
  },
  "language_info": {
   "codemirror_mode": {
    "name": "ipython",
    "version": 3
   },
   "file_extension": ".py",
   "mimetype": "text/x-python",
   "name": "python",
   "nbconvert_exporter": "python",
   "pygments_lexer": "ipython3",
   "version": "3.9.12"
  }
 },
 "nbformat": 4,
 "nbformat_minor": 5
}
